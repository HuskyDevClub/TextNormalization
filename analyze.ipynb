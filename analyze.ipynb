{
 "cells": [
  {
   "cell_type": "code",
   "execution_count": null,
   "metadata": {},
   "outputs": [],
   "source": [
    "import pandas as pd\n",
    "\n",
    "# import train data\n",
    "en_train: pd.DataFrame = pd.read_csv(\"./en_train.csv.zip\")\n",
    "print(en_train.shape)\n",
    "\n",
    "# drop duplicates examples\n",
    "en_train = en_train.drop_duplicates(subset=[\"before\", \"after\"], keep=\"first\")\n",
    "print(en_train.shape)\n",
    "\n",
    "en_train.dropna(inplace=True)\n",
    "en_train[\"before\"] = en_train[\"before\"].astype(str)\n",
    "en_train[\"after\"] = en_train[\"after\"].astype(str)"
   ]
  },
  {
   "cell_type": "code",
   "execution_count": null,
   "metadata": {},
   "outputs": [],
   "source": [
    "# view dataframe\n",
    "en_train.sample(10)"
   ]
  },
  {
   "cell_type": "code",
   "execution_count": null,
   "metadata": {},
   "outputs": [],
   "source": [
    "# view dataframe\n",
    "\n",
    "# how many class?\n",
    "en_train[\"class\"].unique()\n",
    "\n",
    "# it seems like if the class is PUNCT, before always equal to after\n",
    "# en_punctuation: pd.DataFrame = en_train[en_train[\"class\"] == \"PUNCT\"]\n",
    "# en_punctuation[en_punctuation[\"before\"] == en_punctuation[\"after\"]]\n",
    "# en_punctuation[en_punctuation[\"before\"] != en_punctuation[\"after\"]]"
   ]
  },
  {
   "cell_type": "code",
   "execution_count": null,
   "metadata": {},
   "outputs": [],
   "source": [
    "en_train_unique: pd.DataFrame = en_train[en_train[\"before\"] != en_train[\"after\"]]\n",
    "print((len(en_train) - len(en_train_unique)) / len(en_train))\n",
    "# en_train_unique.to_csv(\"./en_train_unique.csv\")"
   ]
  },
  {
   "cell_type": "code",
   "execution_count": null,
   "metadata": {},
   "outputs": [],
   "source": [
    "# check test and submission csv\n",
    "# en_test: pd.DataFrame = pd.read_csv(\"./en_test.csv.zip\")\n",
    "# en_sample_submission: pd.DataFrame = pd.read_csv(\"./en_sample_submission.csv.zip\")"
   ]
  },
  {
   "cell_type": "code",
   "execution_count": null,
   "metadata": {},
   "outputs": [],
   "source": [
    "# functions\n",
    "import unicodedata\n",
    "\n",
    "\n",
    "def is_punctuation(s):\n",
    "    return all(unicodedata.category(c).startswith(\"P\") for c in s)\n",
    "\n",
    "\n",
    "print(is_punctuation(\"\"\"\"\"\"))  # True\n",
    "print(is_punctuation(\"-----\"))  # True\n",
    "print(is_punctuation(\"»\"))  # True"
   ]
  },
  {
   "cell_type": "code",
   "execution_count": null,
   "metadata": {},
   "outputs": [],
   "source": [
    "# conversion of verbatim\n",
    "verbatim_df = en_train[en_train[\"class\"] == \"VERBATIM\"].copy()\n",
    "\n",
    "# Extract all unique cases\n",
    "unique_verbatim_cases = verbatim_df[[\"before\", \"after\"]].drop_duplicates()\n",
    "\n",
    "# Create dictionary mapping 'before' → 'after'\n",
    "VERBATIM_DICT = dict(\n",
    "    zip(unique_verbatim_cases[\"before\"], unique_verbatim_cases[\"after\"])\n",
    ")\n",
    "\n",
    "\n",
    "# Function to apply dictionary\n",
    "def verbatim_to_words(text):\n",
    "\n",
    "    return VERBATIM_DICT.get(\n",
    "        text, text\n",
    "    )  # Return mapped word if found, else return original\n",
    "\n",
    "\n",
    "# Apply transformation\n",
    "verbatim_df[\"tested\"] = verbatim_df[\"before\"].apply(verbatim_to_words)\n",
    "\n",
    "\n",
    "# Find mismatches\n",
    "mismatches = verbatim_df[verbatim_df[\"tested\"] != verbatim_df[\"after\"]]\n",
    "\n",
    "# Output mismatches for manual inspection\n",
    "print(mismatches)"
   ]
  }
 ],
 "metadata": {
  "kernelspec": {
   "display_name": "Python 3",
   "language": "python",
   "name": "python3"
  },
  "language_info": {
   "codemirror_mode": {
    "name": "ipython",
    "version": 3
   },
   "file_extension": ".py",
   "mimetype": "text/x-python",
   "name": "python",
   "nbconvert_exporter": "python",
   "pygments_lexer": "ipython3",
   "version": "3.12.9"
  }
 },
 "nbformat": 4,
 "nbformat_minor": 2
}
