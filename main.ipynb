{
 "cells": [
  {
   "cell_type": "code",
   "execution_count": 1,
   "metadata": {},
   "outputs": [],
   "source": [
    "import pandas as pd\n",
    "\n",
    "# import train data\n",
    "en_train: pd.DataFrame = pd.read_csv(\"./en_train.csv.zip\")\n",
    "\n",
    "# drop duplicates examples\n",
    "en_train = en_train.drop_duplicates(subset=[\"before\", \"after\"], keep=\"first\")\n",
    "\n",
    "en_train.dropna(inplace=True)\n",
    "en_train[\"before\"] = en_train[\"before\"].astype(str)\n",
    "en_train[\"after\"] = en_train[\"after\"].astype(str)"
   ]
  },
  {
   "cell_type": "code",
   "execution_count": 2,
   "metadata": {},
   "outputs": [
    {
     "data": {
      "text/html": [
       "<div>\n",
       "<style scoped>\n",
       "    .dataframe tbody tr th:only-of-type {\n",
       "        vertical-align: middle;\n",
       "    }\n",
       "\n",
       "    .dataframe tbody tr th {\n",
       "        vertical-align: top;\n",
       "    }\n",
       "\n",
       "    .dataframe thead th {\n",
       "        text-align: right;\n",
       "    }\n",
       "</style>\n",
       "<table border=\"1\" class=\"dataframe\">\n",
       "  <thead>\n",
       "    <tr style=\"text-align: right;\">\n",
       "      <th></th>\n",
       "      <th>sentence_id</th>\n",
       "      <th>token_id</th>\n",
       "      <th>class</th>\n",
       "      <th>before</th>\n",
       "      <th>after</th>\n",
       "    </tr>\n",
       "  </thead>\n",
       "  <tbody>\n",
       "    <tr>\n",
       "      <th>2926695</th>\n",
       "      <td>226348</td>\n",
       "      <td>12</td>\n",
       "      <td>FRACTION</td>\n",
       "      <td>1928/9</td>\n",
       "      <td>one thousand nine hundred twenty eight ninths</td>\n",
       "    </tr>\n",
       "    <tr>\n",
       "      <th>543130</th>\n",
       "      <td>43477</td>\n",
       "      <td>0</td>\n",
       "      <td>LETTERS</td>\n",
       "      <td>J. R. R.</td>\n",
       "      <td>j r r</td>\n",
       "    </tr>\n",
       "    <tr>\n",
       "      <th>6195354</th>\n",
       "      <td>471684</td>\n",
       "      <td>6</td>\n",
       "      <td>PLAIN</td>\n",
       "      <td>Motivate</td>\n",
       "      <td>Motivate</td>\n",
       "    </tr>\n",
       "    <tr>\n",
       "      <th>9838942</th>\n",
       "      <td>742191</td>\n",
       "      <td>4</td>\n",
       "      <td>PLAIN</td>\n",
       "      <td>Stradale</td>\n",
       "      <td>Stradale</td>\n",
       "    </tr>\n",
       "    <tr>\n",
       "      <th>9642261</th>\n",
       "      <td>727705</td>\n",
       "      <td>0</td>\n",
       "      <td>PLAIN</td>\n",
       "      <td>Aryl</td>\n",
       "      <td>Aryl</td>\n",
       "    </tr>\n",
       "    <tr>\n",
       "      <th>1294824</th>\n",
       "      <td>101931</td>\n",
       "      <td>5</td>\n",
       "      <td>LETTERS</td>\n",
       "      <td>Neamt</td>\n",
       "      <td>n e a m t</td>\n",
       "    </tr>\n",
       "    <tr>\n",
       "      <th>5818336</th>\n",
       "      <td>443573</td>\n",
       "      <td>1</td>\n",
       "      <td>DIGIT</td>\n",
       "      <td>0031</td>\n",
       "      <td>o o three one</td>\n",
       "    </tr>\n",
       "    <tr>\n",
       "      <th>692373</th>\n",
       "      <td>55251</td>\n",
       "      <td>5</td>\n",
       "      <td>PLAIN</td>\n",
       "      <td>Trabzonspor</td>\n",
       "      <td>Trabzonspor</td>\n",
       "    </tr>\n",
       "    <tr>\n",
       "      <th>2095290</th>\n",
       "      <td>163205</td>\n",
       "      <td>6</td>\n",
       "      <td>PLAIN</td>\n",
       "      <td>sulphate</td>\n",
       "      <td>sulphate</td>\n",
       "    </tr>\n",
       "    <tr>\n",
       "      <th>2632565</th>\n",
       "      <td>204067</td>\n",
       "      <td>1</td>\n",
       "      <td>PLAIN</td>\n",
       "      <td>Radevich</td>\n",
       "      <td>Radevich</td>\n",
       "    </tr>\n",
       "  </tbody>\n",
       "</table>\n",
       "</div>"
      ],
      "text/plain": [
       "         sentence_id  token_id     class       before  \\\n",
       "2926695       226348        12  FRACTION       1928/9   \n",
       "543130         43477         0   LETTERS     J. R. R.   \n",
       "6195354       471684         6     PLAIN     Motivate   \n",
       "9838942       742191         4     PLAIN     Stradale   \n",
       "9642261       727705         0     PLAIN         Aryl   \n",
       "1294824       101931         5   LETTERS        Neamt   \n",
       "5818336       443573         1     DIGIT         0031   \n",
       "692373         55251         5     PLAIN  Trabzonspor   \n",
       "2095290       163205         6     PLAIN     sulphate   \n",
       "2632565       204067         1     PLAIN     Radevich   \n",
       "\n",
       "                                                 after  \n",
       "2926695  one thousand nine hundred twenty eight ninths  \n",
       "543130                                           j r r  \n",
       "6195354                                       Motivate  \n",
       "9838942                                       Stradale  \n",
       "9642261                                           Aryl  \n",
       "1294824                                      n e a m t  \n",
       "5818336                                  o o three one  \n",
       "692373                                     Trabzonspor  \n",
       "2095290                                       sulphate  \n",
       "2632565                                       Radevich  "
      ]
     },
     "execution_count": 2,
     "metadata": {},
     "output_type": "execute_result"
    }
   ],
   "source": [
    "# view dataframe\n",
    "en_train.sample(10)"
   ]
  },
  {
   "cell_type": "code",
   "execution_count": 3,
   "metadata": {},
   "outputs": [],
   "source": [
    "# save cleaned en_train\n",
    "en_train1: pd.DataFrame = en_train[en_train[\"before\"] != en_train[\"after\"]]\n",
    "en_train1 = pd.concat(\n",
    "    [\n",
    "        en_train1,\n",
    "        en_train[en_train[\"before\"] == en_train[\"after\"]].sample(len(en_train1) // 3),\n",
    "    ]\n",
    ")\n",
    "en_train1.drop(columns=[\"class\"]).to_csv(\"./en_train.csv\", index=False)\n",
    "del en_train1"
   ]
  },
  {
   "cell_type": "code",
   "execution_count": 4,
   "metadata": {},
   "outputs": [
    {
     "data": {
      "text/plain": [
       "array(['PLAIN', 'PUNCT', 'DATE', 'LETTERS', 'CARDINAL', 'VERBATIM',\n",
       "       'DECIMAL', 'MEASURE', 'MONEY', 'ORDINAL', 'TIME', 'ELECTRONIC',\n",
       "       'DIGIT', 'FRACTION', 'TELEPHONE', 'ADDRESS'], dtype=object)"
      ]
     },
     "execution_count": 4,
     "metadata": {},
     "output_type": "execute_result"
    }
   ],
   "source": [
    "# view dataframe\n",
    "\n",
    "# how many class?\n",
    "en_train[\"class\"].unique()\n",
    "\n",
    "# it seems like if the class is PUNCT, before always equal to after\n",
    "# en_punctuation: pd.DataFrame = en_train[en_train[\"class\"] == \"PUNCT\"]\n",
    "# en_punctuation[en_punctuation[\"before\"] == en_punctuation[\"after\"]]\n",
    "# en_punctuation[en_punctuation[\"before\"] != en_punctuation[\"after\"]]"
   ]
  },
  {
   "cell_type": "code",
   "execution_count": 5,
   "metadata": {},
   "outputs": [],
   "source": [
    "en_train_unique: pd.DataFrame = en_train[en_train[\"before\"] != en_train[\"after\"]]\n",
    "# en_train_unique.to_csv(\"./en_train_unique.csv\")"
   ]
  },
  {
   "cell_type": "code",
   "execution_count": 6,
   "metadata": {},
   "outputs": [],
   "source": [
    "# check test and submission csv\n",
    "# en_test: pd.DataFrame = pd.read_csv(\"./en_test.csv.zip\")\n",
    "# en_sample_submission: pd.DataFrame = pd.read_csv(\"./en_sample_submission.csv.zip\")"
   ]
  },
  {
   "cell_type": "code",
   "execution_count": 7,
   "metadata": {},
   "outputs": [
    {
     "name": "stdout",
     "output_type": "stream",
     "text": [
      "True\n",
      "True\n",
      "True\n"
     ]
    }
   ],
   "source": [
    "# functions\n",
    "import unicodedata\n",
    "\n",
    "\n",
    "def is_punctuation(s):\n",
    "    return all(unicodedata.category(char).startswith(\"P\") for char in s)\n",
    "\n",
    "\n",
    "print(is_punctuation(\"\"\"\"\"\"))  # True\n",
    "print(is_punctuation(\"-----\"))  # True\n",
    "print(is_punctuation(\"»\"))  # True"
   ]
  },
  {
   "cell_type": "code",
   "execution_count": null,
   "metadata": {},
   "outputs": [],
   "source": [
    "#conversion of verbatim\n",
    "verbatim_df = en_train[en_train['class'] == 'VERBATIM'].copy()\n",
    "\n",
    "# Extract all unique cases\n",
    "unique_verbatim_cases = verbatim_df[['before', 'after']].drop_duplicates()\n",
    "\n",
    "# Create dictionary mapping 'before' → 'after'\n",
    "VERBATIM_DICT = dict(zip(unique_verbatim_cases['before'], unique_verbatim_cases['after']))\n",
    "\n",
    "# Function to apply dictionary\n",
    "def verbatim_to_words(text):\n",
    "    \n",
    "    return VERBATIM_DICT.get(text, text)  # Return mapped word if found, else return original\n",
    "\n",
    "# Apply transformation\n",
    "verbatim_df['tested'] = verbatim_df['before'].apply(verbatim_to_words)\n",
    "\n",
    "\n",
    "# Find mismatches\n",
    "mismatches = verbatim_df[verbatim_df['tested'] != verbatim_df['after']]\n",
    "\n",
    "# Output mismatches for manual inspection\n",
    "print(mismatches)\n"
   ]
  }
 ],
 "metadata": {
  "kernelspec": {
   "display_name": "Python 3",
   "language": "python",
   "name": "python3"
  },
  "language_info": {
   "codemirror_mode": {
    "name": "ipython",
    "version": 3
   },
   "file_extension": ".py",
   "mimetype": "text/x-python",
   "name": "python",
   "nbconvert_exporter": "python",
   "pygments_lexer": "ipython3",
   "version": "3.11.9"
  }
 },
 "nbformat": 4,
 "nbformat_minor": 2
}
