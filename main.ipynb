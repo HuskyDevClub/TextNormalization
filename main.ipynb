{
 "cells": [
  {
   "cell_type": "code",
   "execution_count": 20,
   "metadata": {},
   "outputs": [],
   "source": [
    "import pandas as pd\n",
    "\n",
    "# import train data\n",
    "en_train: pd.DataFrame = pd.read_csv(\"./en_train.csv.zip\")\n",
    "\n",
    "# drop duplicates examples\n",
    "en_train = en_train.drop_duplicates(subset=[\"before\", \"after\"], keep=\"first\")\n",
    "\n",
    "# en_train[\"before\"] = en_train[\"before\"].astype(str)\n",
    "# en_train[\"after\"] = en_train[\"after\"].astype(str)\n",
    "\n",
    "en_train.to_csv(\"./en_train_cleaned.csv\")"
   ]
  },
  {
   "cell_type": "code",
   "execution_count": 25,
   "metadata": {},
   "outputs": [
    {
     "data": {
      "text/plain": [
       "array(['PLAIN', 'PUNCT', 'DATE', 'LETTERS', 'CARDINAL', 'VERBATIM',\n",
       "       'DECIMAL', 'MEASURE', 'MONEY', 'ORDINAL', 'TIME', 'ELECTRONIC',\n",
       "       'DIGIT', 'FRACTION', 'TELEPHONE', 'ADDRESS'], dtype=object)"
      ]
     },
     "execution_count": 25,
     "metadata": {},
     "output_type": "execute_result"
    }
   ],
   "source": [
    "# view dataframe\n",
    "\n",
    "# how many class?\n",
    "en_train[\"class\"].unique()\n",
    "\n",
    "# it seems like if the class is PUNCT, before always equal to after\n",
    "# en_punctuation: pd.DataFrame = en_train[en_train[\"class\"] == \"PUNCT\"]\n",
    "# en_punctuation[en_punctuation[\"before\"] == en_punctuation[\"after\"]]\n",
    "# en_punctuation[en_punctuation[\"before\"] != en_punctuation[\"after\"]]"
   ]
  },
  {
   "cell_type": "code",
   "execution_count": null,
   "metadata": {},
   "outputs": [],
   "source": [
    "en_train_unique: pd.DataFrame = en_train[en_train[\"before\"] != en_train[\"after\"]]\n",
    "# en_train_unique.to_csv(\"./en_train_unique.csv\")"
   ]
  },
  {
   "cell_type": "code",
   "execution_count": null,
   "metadata": {},
   "outputs": [],
   "source": [
    "# check test and submission csv\n",
    "# en_test: pd.DataFrame = pd.read_csv(\"./en_test.csv.zip\")\n",
    "# en_sample_submission: pd.DataFrame = pd.read_csv(\"./en_sample_submission.csv.zip\")"
   ]
  }
 ],
 "metadata": {
  "kernelspec": {
   "display_name": "Python 3",
   "language": "python",
   "name": "python3"
  },
  "language_info": {
   "codemirror_mode": {
    "name": "ipython",
    "version": 3
   },
   "file_extension": ".py",
   "mimetype": "text/x-python",
   "name": "python",
   "nbconvert_exporter": "python",
   "pygments_lexer": "ipython3",
   "version": "3.12.9"
  }
 },
 "nbformat": 4,
 "nbformat_minor": 2
}
